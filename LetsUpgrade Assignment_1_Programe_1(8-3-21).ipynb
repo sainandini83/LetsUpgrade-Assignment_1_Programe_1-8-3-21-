{
 "cells": [
  {
   "cell_type": "markdown",
   "metadata": {},
   "source": [
    "# LetsUpgrade Assignment_1(8-3-21)"
   ]
  },
  {
   "cell_type": "markdown",
   "metadata": {},
   "source": [
    "Project on:Data Structures and Algorithm (Python)"
   ]
  },
  {
   "cell_type": "markdown",
   "metadata": {},
   "source": [
    "Done By:SAI NANDNI(MBA SYSTEMS)"
   ]
  },
  {
   "cell_type": "markdown",
   "metadata": {},
   "source": [
    "#GitHub URL"
   ]
  },
  {
   "cell_type": "markdown",
   "metadata": {},
   "source": [
    "#Lest start the code for our Assignment\n",
    "Programe 1\n"
   ]
  },
  {
   "cell_type": "code",
   "execution_count": 12,
   "metadata": {},
   "outputs": [],
   "source": [
    "#Write a python program that takes two numbers as the input such as X and Y and print the resultof X^Y(X to the power of Y).\n"
   ]
  },
  {
   "cell_type": "code",
   "execution_count": 13,
   "metadata": {},
   "outputs": [
    {
     "name": "stdout",
     "output_type": "stream",
     "text": [
      "Enter the first number is x: 4\n",
      "Entre the second number is y: 2\n",
      "x to the power of y is  16\n"
     ]
    }
   ],
   "source": [
    "x=int(input(\"Enter the first number is x: \"))\n",
    "y=int(input(\"Entre the second number is y: \"))\n",
    "print(\"x to the power of y is \",x**y)\n",
    "#z=x**y\n",
    "#print(z)"
   ]
  },
  {
   "cell_type": "code",
   "execution_count": null,
   "metadata": {},
   "outputs": [],
   "source": []
  }
 ],
 "metadata": {
  "kernelspec": {
   "display_name": "Python 3",
   "language": "python",
   "name": "python3"
  },
  "language_info": {
   "codemirror_mode": {
    "name": "ipython",
    "version": 3
   },
   "file_extension": ".py",
   "mimetype": "text/x-python",
   "name": "python",
   "nbconvert_exporter": "python",
   "pygments_lexer": "ipython3",
   "version": "3.8.5"
  }
 },
 "nbformat": 4,
 "nbformat_minor": 4
}
